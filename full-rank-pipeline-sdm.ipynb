{
 "cells": [
  {
   "attachments": {},
   "cell_type": "markdown",
   "id": "8c3da078-f7fc-4d37-904c-532bb26d4321",
   "metadata": {},
   "source": [
    "# Anthology Pipeline"
   ]
  },
  {
   "attachments": {},
   "cell_type": "markdown",
   "id": "66fd2911-c97a-4f91-af28-8c7e381573b6",
   "metadata": {},
   "source": [
    "### Step 1: Import everything and load variables"
   ]
  },
  {
   "cell_type": "code",
   "execution_count": 12,
   "id": "7ae3c54f-aba1-45bf-b074-e78a99f6405f",
   "metadata": {
    "ExecuteTime": {
     "end_time": "2023-05-08T15:27:48.830293Z",
     "start_time": "2023-05-08T15:27:48.789722Z"
    }
   },
   "outputs": [
    {
     "name": "stdout",
     "output_type": "stream",
     "text": [
      "I will use a small hardcoded example located in iranthology-dataset-tira/.\n",
      "The output directory is /tmp/\n"
     ]
    }
   ],
   "source": [
    "import pyterrier as pt\n",
    "import pandas as pd\n",
    "from tira.third_party_integrations import ensure_pyterrier_is_loaded, get_input_directory_and_output_directory, persist_and_normalize_run\n",
    "import json\n",
    "from tqdm import tqdm\n",
    "\n",
    "ensure_pyterrier_is_loaded()\n",
    "input_directory, output_directory = get_input_directory_and_output_directory('iranthology-dataset-tira/')"
   ]
  },
  {
   "attachments": {},
   "cell_type": "markdown",
   "id": "8c563b0e-97ac-44a2-ba2f-18858f1506bb",
   "metadata": {},
   "source": [
    "### Step 2: Load the Data"
   ]
  },
  {
   "cell_type": "code",
   "execution_count": 13,
   "id": "e35230af-66ec-4607-a97b-127bd890fa59",
   "metadata": {
    "ExecuteTime": {
     "end_time": "2023-05-08T15:27:48.831223Z",
     "start_time": "2023-05-08T15:27:48.798272Z"
    }
   },
   "outputs": [
    {
     "name": "stdout",
     "output_type": "stream",
     "text": [
      "Step 2: Load the data.\n"
     ]
    }
   ],
   "source": [
    "print('Step 2: Load the data.')\n",
    "\n",
    "queries = pt.io.read_topics(input_directory + '/queries.xml', format='trecxml')\n",
    "\n",
    "documents = (json.loads(i) for i in open(input_directory + '/documents.jsonl', 'r'))\n"
   ]
  },
  {
   "attachments": {},
   "cell_type": "markdown",
   "id": "72655916-07fe-4c58-82c1-2f9f93381e7f",
   "metadata": {},
   "source": [
    "### Step 3: Create the Index"
   ]
  },
  {
   "cell_type": "code",
   "execution_count": 19,
   "id": "05ce062d-25e4-4c61-b6ce-9431b9f2bbd4",
   "metadata": {
    "ExecuteTime": {
     "end_time": "2023-05-08T15:27:49.021094Z",
     "start_time": "2023-05-08T15:27:48.814452Z"
    }
   },
   "outputs": [
    {
     "name": "stdout",
     "output_type": "stream",
     "text": [
      "Step 3: Create the Index.\n"
     ]
    },
    {
     "name": "stderr",
     "output_type": "stream",
     "text": []
    },
    {
     "name": "stdout",
     "output_type": "stream",
     "text": [
      "10:33:53.017 [main] ERROR org.terrier.structures.Index - Cannot create new index: path c:\\Users\\maxto\\ir\\.\\var\\./index does not exist, or cannot be written to\n"
     ]
    },
    {
     "ename": "JavaException",
     "evalue": "JVM exception occurred: Cannot create new index: path c:\\Users\\maxto\\ir\\.\\var\\./index does not exist, or cannot be written to java.lang.IllegalArgumentException",
     "output_type": "error",
     "traceback": [
      "\u001b[1;31m---------------------------------------------------------------------------\u001b[0m",
      "\u001b[1;31mJavaException\u001b[0m                             Traceback (most recent call last)",
      "Cell \u001b[1;32mIn[19], line 5\u001b[0m\n\u001b[0;32m      3\u001b[0m \u001b[39m#!rm -Rf ./index\u001b[39;00m\n\u001b[0;32m      4\u001b[0m iter_indexer \u001b[39m=\u001b[39m pt\u001b[39m.\u001b[39mIterDictIndexer(\u001b[39m\"\u001b[39m\u001b[39m./index\u001b[39m\u001b[39m\"\u001b[39m, meta\u001b[39m=\u001b[39m{\u001b[39m'\u001b[39m\u001b[39mdocno\u001b[39m\u001b[39m'\u001b[39m : \u001b[39m100\u001b[39m})\n\u001b[1;32m----> 5\u001b[0m index_ref \u001b[39m=\u001b[39m iter_indexer\u001b[39m.\u001b[39;49mindex(tqdm(documents))\n",
      "File \u001b[1;32mc:\\Users\\maxto\\ir\\venv\\lib\\site-packages\\pyterrier\\index.py:901\u001b[0m, in \u001b[0;36m_IterDictIndexer_nofifo.index\u001b[1;34m(self, it, fields, meta, meta_lengths, threads)\u001b[0m\n\u001b[0;32m    899\u001b[0m \u001b[39m# remove once 5.7 is now the minimum version\u001b[39;00m\n\u001b[0;32m    900\u001b[0m \u001b[39mfrom\u001b[39;00m \u001b[39m.\u001b[39;00m \u001b[39mimport\u001b[39;00m check_version\n\u001b[1;32m--> 901\u001b[0m index\u001b[39m.\u001b[39;49mindex(javaDocCollection \u001b[39mif\u001b[39;49;00m check_version(\u001b[39m\"\u001b[39;49m\u001b[39m5.7\u001b[39;49m\u001b[39m\"\u001b[39;49m) \u001b[39melse\u001b[39;49;00m [javaDocCollection])\n\u001b[0;32m    902\u001b[0m \u001b[39mglobal\u001b[39;00m lastdoc\n\u001b[0;32m    903\u001b[0m lastdoc \u001b[39m=\u001b[39m \u001b[39mNone\u001b[39;00m\n",
      "File \u001b[1;32mjnius\\jnius_export_class.pxi:1164\u001b[0m, in \u001b[0;36mjnius.JavaMultipleMethod.__call__\u001b[1;34m()\u001b[0m\n",
      "File \u001b[1;32mjnius\\jnius_export_class.pxi:878\u001b[0m, in \u001b[0;36mjnius.JavaMethod.__call__\u001b[1;34m()\u001b[0m\n",
      "File \u001b[1;32mjnius\\jnius_export_class.pxi:972\u001b[0m, in \u001b[0;36mjnius.JavaMethod.call_method\u001b[1;34m()\u001b[0m\n",
      "File \u001b[1;32mjnius\\jnius_utils.pxi:79\u001b[0m, in \u001b[0;36mjnius.check_exception\u001b[1;34m()\u001b[0m\n",
      "\u001b[1;31mJavaException\u001b[0m: JVM exception occurred: Cannot create new index: path c:\\Users\\maxto\\ir\\.\\var\\./index does not exist, or cannot be written to java.lang.IllegalArgumentException"
     ]
    }
   ],
   "source": [
    "print('Step 3: Create the Index.')\n",
    "\n",
    "!rm -Rf ./index\n",
    "iter_indexer = pt.IterDictIndexer(\"./index\", meta={'docno' : 100}, blocks=True)\n",
    "index_ref = iter_indexer.index(tqdm(documents))"
   ]
  },
  {
   "attachments": {},
   "cell_type": "markdown",
   "id": "806c4638-ccee-4470-a74c-2a85d9ee2cfc",
   "metadata": {},
   "source": [
    "### Step 4: Create Run"
   ]
  },
  {
   "cell_type": "code",
   "execution_count": null,
   "id": "a191f396-e896-4792-afaf-574e452640f5",
   "metadata": {},
   "outputs": [],
   "source": [
    "print('Step 4: Create Run.')\n",
    "sdm = pt.rewrite.SDM()\n",
    "bm25 = pt.BatchRetrieve(index_ref, wmodel=\"BM25\", verbose=True, num_results=5)\n",
    "retrieval_pipeline = sdm >> bm25\n",
    "run = retrieval_pipeline(queries)"
   ]
  },
  {
   "cell_type": "code",
   "execution_count": null,
   "id": "c0e07fca-de98-4de2-b6a7-abfd516c652c",
   "metadata": {},
   "outputs": [],
   "source": [
    "run"
   ]
  },
  {
   "attachments": {},
   "cell_type": "markdown",
   "id": "28c40a2e-0f96-4ae8-aa5e-55a5e7ef9dee",
   "metadata": {},
   "source": [
    "### Step 5: Persist Run"
   ]
  },
  {
   "cell_type": "code",
   "execution_count": null,
   "id": "12e5bb42-ed1f-41ba-b7a5-cb43ebca96f6",
   "metadata": {},
   "outputs": [],
   "source": [
    "print('Step 5: Persist Run.')\n",
    "\n",
    "persist_and_normalize_run(run, output_file=output_directory, system_name='BM25', depth=1000)"
   ]
  }
 ],
 "metadata": {
  "kernelspec": {
   "display_name": "Python 3 (ipykernel)",
   "language": "python",
   "name": "python3"
  },
  "language_info": {
   "codemirror_mode": {
    "name": "ipython",
    "version": 3
   },
   "file_extension": ".py",
   "mimetype": "text/x-python",
   "name": "python",
   "nbconvert_exporter": "python",
   "pygments_lexer": "ipython3",
   "version": "3.8.1"
  }
 },
 "nbformat": 4,
 "nbformat_minor": 5
}
