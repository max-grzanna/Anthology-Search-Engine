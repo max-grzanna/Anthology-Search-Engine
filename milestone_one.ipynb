{
 "cells": [
  {
   "cell_type": "code",
   "execution_count": 44,
   "outputs": [],
   "source": [
    "from pathlib import Path\n",
    "import requests\n",
    "import zipfile"
   ],
   "metadata": {
    "collapsed": false,
    "ExecuteTime": {
     "start_time": "2023-04-28T18:34:44.103415Z",
     "end_time": "2023-04-28T18:34:44.145850Z"
    }
   }
  },
  {
   "cell_type": "code",
   "execution_count": 45,
   "outputs": [
    {
     "name": "stdout",
     "output_type": "stream",
     "text": [
      "data/raw/ir_dataset already exists.. skipping download\n"
     ]
    }
   ],
   "source": [
    "data_path = Path(\"data/raw\")\n",
    "dataset_path = data_path / \"ir_dataset\"\n",
    "if dataset_path.is_dir():\n",
    "    print(f\"{dataset_path} already exists.. skipping download\")\n",
    "else:\n",
    "    print(f\"{dataset_path} does not exist.. downloading\")\n",
    "    dataset_path.mkdir(parents=True, exist_ok=True)\n",
    "\n",
    "    # Download the dataset\n",
    "    with open(data_path / \"ir-anthology-v1.zip\", \"wb\") as f:\n",
    "        url = \"https://files.webis.de/teaching/ir-ss23/ir-anthology-v1.zip\"\n",
    "        request = requests.get(url)\n",
    "        print(\"Downloading data...\")\n",
    "        f.write(request.content)\n",
    "\n",
    "    with zipfile.ZipFile(data_path / \"ir-anthology-v1.zip\", \"r\") as zip_ref:\n",
    "        print(\"Unzipping..\")\n",
    "        zip_ref.extractall(dataset_path)\n",
    "        print(\"Done!\")\n"
   ],
   "metadata": {
    "collapsed": false,
    "ExecuteTime": {
     "start_time": "2023-04-28T18:34:44.145423Z",
     "end_time": "2023-04-28T18:34:44.146700Z"
    }
   }
  },
  {
   "cell_type": "code",
   "execution_count": 46,
   "outputs": [],
   "source": [
    "import jsonlines\n",
    "import pprint\n",
    "\n",
    "with jsonlines.open(dataset_path / \"ir-anthology-07-11-2021-ss23.jsonl\", 'r') as jsonl_f:\n",
    "     lst = [obj for obj in jsonl_f]\n",
    "     # only keep the keys \"id\" and \"title\"\n",
    "     lst = [{k: v for k, v in obj.items() if k in ['id', 'title','abstract','authors','year','booktitle']} for obj in lst]\n",
    "     pprint.pprint(lst[0])"
   ],
   "metadata": {
    "collapsed": false,
    "ExecuteTime": {
     "start_time": "2023-04-28T18:34:44.146076Z",
     "end_time": "2023-04-28T18:34:45.015494Z"
    }
   }
  },
  {
   "cell_type": "code",
   "execution_count": 47,
   "outputs": [],
   "source": [
    "processed_path = Path(\"data/processed\")\n",
    "processed_path.mkdir(parents=True, exist_ok=True)\n",
    "\n",
    "# write the processed data to a jsonl file\n",
    "with jsonlines.open(processed_path / 'anthology-documents.jsonl', 'w') as writer:\n",
    "    writer.write_all(lst)"
   ],
   "metadata": {
    "collapsed": false,
    "ExecuteTime": {
     "start_time": "2023-04-28T18:34:45.016527Z",
     "end_time": "2023-04-28T18:34:45.193099Z"
    }
   }
  }
 ],
 "metadata": {
  "kernelspec": {
   "display_name": "Python 3 (ipykernel)",
   "language": "python",
   "name": "python3"
  },
  "language_info": {
   "codemirror_mode": {
    "name": "ipython",
    "version": 3
   },
   "file_extension": ".py",
   "mimetype": "text/x-python",
   "name": "python",
   "nbconvert_exporter": "python",
   "pygments_lexer": "ipython3",
   "version": "3.9.12"
  }
 },
 "nbformat": 4,
 "nbformat_minor": 5
}
