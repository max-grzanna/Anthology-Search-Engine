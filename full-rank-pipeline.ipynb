{
 "cells": [
  {
   "cell_type": "markdown",
   "id": "8c3da078-f7fc-4d37-904c-532bb26d4321",
   "metadata": {},
   "source": [
    "# Anthology Pipeline"
   ]
  },
  {
   "cell_type": "markdown",
   "id": "66fd2911-c97a-4f91-af28-8c7e381573b6",
   "metadata": {},
   "source": [
    "### Step 1: Import everything and load variables"
   ]
  },
  {
   "cell_type": "code",
   "execution_count": 36,
   "id": "7ae3c54f-aba1-45bf-b074-e78a99f6405f",
   "metadata": {
    "ExecuteTime": {
     "end_time": "2023-05-08T15:27:48.830293Z",
     "start_time": "2023-05-08T15:27:48.789722Z"
    }
   },
   "outputs": [
    {
     "name": "stdout",
     "output_type": "stream",
     "text": [
      "I will use a small hardcoded example located in .\n",
      "The output directory is /tmp/\n"
     ]
    }
   ],
   "source": [
    "import pyterrier as pt\n",
    "import pandas as pd\n",
    "from tira.third_party_integrations import ensure_pyterrier_is_loaded, get_input_directory_and_output_directory, persist_and_normalize_run\n",
    "import json\n",
    "from tqdm import tqdm\n",
    "import os\n",
    "\n",
    "os.environ[\"PYTERRIER_VERSION\"] = str(pt.__version__)\n",
    "os.environ[\"PYTERRIER_HELPER_VERSION\"] = str(pt.__version__)\n",
    "\n",
    "ensure_pyterrier_is_loaded()\n",
    "input_directory, output_directory = get_input_directory_and_output_directory('')\n"
   ]
  },
  {
   "cell_type": "markdown",
   "id": "8c563b0e-97ac-44a2-ba2f-18858f1506bb",
   "metadata": {},
   "source": [
    "### Step 2: Load the Data"
   ]
  },
  {
   "cell_type": "code",
   "execution_count": 37,
   "id": "e35230af-66ec-4607-a97b-127bd890fa59",
   "metadata": {
    "ExecuteTime": {
     "end_time": "2023-05-08T15:27:48.831223Z",
     "start_time": "2023-05-08T15:27:48.798272Z"
    }
   },
   "outputs": [
    {
     "name": "stdout",
     "output_type": "stream",
     "text": [
      "Step 2: Load the data.\n"
     ]
    }
   ],
   "source": [
    "print('Step 2: Load the data.')\n",
    "\n",
    "queries = pt.io.read_topics(input_directory + 'anthology-topics.xml', format='trecxml')\n",
    "\n",
    "documents = (json.loads(i) for i in open(input_directory + 'anthology-documents.jsonl', 'r'))\n"
   ]
  },
  {
   "cell_type": "markdown",
   "id": "72655916-07fe-4c58-82c1-2f9f93381e7f",
   "metadata": {},
   "source": [
    "### Step 3: Create the Index"
   ]
  },
  {
   "cell_type": "code",
   "execution_count": 38,
   "id": "05ce062d-25e4-4c61-b6ce-9431b9f2bbd4",
   "metadata": {
    "ExecuteTime": {
     "end_time": "2023-05-08T15:27:49.021094Z",
     "start_time": "2023-05-08T15:27:48.814452Z"
    }
   },
   "outputs": [
    {
     "name": "stdout",
     "output_type": "stream",
     "text": [
      "Step 3: Create the Index.\n"
     ]
    },
    {
     "name": "stderr",
     "output_type": "stream",
     "text": [
      "\n",
      "0it [00:00, ?it/s]\u001B[A"
     ]
    },
    {
     "ename": "ValueError",
     "evalue": "Indexing meta key docno not found in first document (keys ['year', 'booktitle', 'authors', 'id', 'abstract', 'title'])",
     "output_type": "error",
     "traceback": [
      "\u001B[0;31m---------------------------------------------------------------------------\u001B[0m",
      "\u001B[0;31mValueError\u001B[0m                                Traceback (most recent call last)",
      "Cell \u001B[0;32mIn[38], line 5\u001B[0m\n\u001B[1;32m      3\u001B[0m get_ipython()\u001B[38;5;241m.\u001B[39msystem(\u001B[38;5;124m'\u001B[39m\u001B[38;5;124mrm -Rf ./index\u001B[39m\u001B[38;5;124m'\u001B[39m)\n\u001B[1;32m      4\u001B[0m iter_indexer \u001B[38;5;241m=\u001B[39m pt\u001B[38;5;241m.\u001B[39mIterDictIndexer(\u001B[38;5;124m\"\u001B[39m\u001B[38;5;124m./index\u001B[39m\u001B[38;5;124m\"\u001B[39m, meta\u001B[38;5;241m=\u001B[39m{\u001B[38;5;124m'\u001B[39m\u001B[38;5;124mdocno\u001B[39m\u001B[38;5;124m'\u001B[39m : \u001B[38;5;241m100\u001B[39m})\n\u001B[0;32m----> 5\u001B[0m index_ref \u001B[38;5;241m=\u001B[39m \u001B[43miter_indexer\u001B[49m\u001B[38;5;241;43m.\u001B[39;49m\u001B[43mindex\u001B[49m\u001B[43m(\u001B[49m\u001B[43mtqdm\u001B[49m\u001B[43m(\u001B[49m\u001B[43mdocuments\u001B[49m\u001B[43m)\u001B[49m\u001B[43m)\u001B[49m\n",
      "File \u001B[0;32m~/Documents/dev/Anthology-Search-Engine/venv/Desktop/lib/python3.10/site-packages/pyterrier/index.py:968\u001B[0m, in \u001B[0;36m_IterDictIndexer_fifo.index\u001B[0;34m(self, it, fields, meta, meta_lengths)\u001B[0m\n\u001B[1;32m    965\u001B[0m     fifos\u001B[38;5;241m.\u001B[39mappend(fifo)\n\u001B[1;32m    967\u001B[0m \u001B[38;5;66;03m# Start dishing out the docs to the fifos\u001B[39;00m\n\u001B[0;32m--> 968\u001B[0m threading\u001B[38;5;241m.\u001B[39mThread(target\u001B[38;5;241m=\u001B[39m\u001B[38;5;28mself\u001B[39m\u001B[38;5;241m.\u001B[39m_write_fifos, args\u001B[38;5;241m=\u001B[39m(\u001B[38;5;28;43mself\u001B[39;49m\u001B[38;5;241;43m.\u001B[39;49m\u001B[43m_filter_iterable\u001B[49m\u001B[43m(\u001B[49m\u001B[43mit\u001B[49m\u001B[43m,\u001B[49m\u001B[43m \u001B[49m\u001B[43mfields\u001B[49m\u001B[43m)\u001B[49m, fifos), daemon\u001B[38;5;241m=\u001B[39m\u001B[38;5;28;01mTrue\u001B[39;00m)\u001B[38;5;241m.\u001B[39mstart()\n\u001B[1;32m    970\u001B[0m \u001B[38;5;66;03m# Different process for memory indexer (still taking advantage of faster fifos)\u001B[39;00m\n\u001B[1;32m    971\u001B[0m \u001B[38;5;28;01mif\u001B[39;00m Indexer \u001B[38;5;129;01mis\u001B[39;00m BasicMemoryIndexer:\n",
      "File \u001B[0;32m~/Documents/dev/Anthology-Search-Engine/venv/Desktop/lib/python3.10/site-packages/pyterrier/index.py:825\u001B[0m, in \u001B[0;36m_BaseIterDictIndexer._filter_iterable\u001B[0;34m(self, it, indexed_fields)\u001B[0m\n\u001B[1;32m    822\u001B[0m     all_fields \u001B[38;5;241m=\u001B[39m {\u001B[38;5;124m'\u001B[39m\u001B[38;5;124mdocno\u001B[39m\u001B[38;5;124m'\u001B[39m} \u001B[38;5;241m|\u001B[39m \u001B[38;5;28mset\u001B[39m(indexed_fields) \u001B[38;5;241m|\u001B[39m \u001B[38;5;28mset\u001B[39m(\u001B[38;5;28mself\u001B[39m\u001B[38;5;241m.\u001B[39mmeta\u001B[38;5;241m.\u001B[39mkeys())\n\u001B[1;32m    824\u001B[0m (first_doc,), it \u001B[38;5;241m=\u001B[39m more_itertools\u001B[38;5;241m.\u001B[39mspy(it) \u001B[38;5;66;03m# peek at the first document and validate it\u001B[39;00m\n\u001B[0;32m--> 825\u001B[0m \u001B[38;5;28;43mself\u001B[39;49m\u001B[38;5;241;43m.\u001B[39;49m\u001B[43m_validate_doc_dict\u001B[49m\u001B[43m(\u001B[49m\u001B[43mfirst_doc\u001B[49m\u001B[43m)\u001B[49m\n\u001B[1;32m    827\u001B[0m \u001B[38;5;66;03m# important: return an iterator here, rather than make this function a generator,\u001B[39;00m\n\u001B[1;32m    828\u001B[0m \u001B[38;5;66;03m# to be sure that the validation above happens when _filter_iterable is called,\u001B[39;00m\n\u001B[1;32m    829\u001B[0m \u001B[38;5;66;03m# rather than on the first invocation of next()\u001B[39;00m\n\u001B[1;32m    830\u001B[0m \u001B[38;5;28;01mreturn\u001B[39;00m ({f: doc[f] \u001B[38;5;28;01mfor\u001B[39;00m f \u001B[38;5;129;01min\u001B[39;00m all_fields} \u001B[38;5;28;01mfor\u001B[39;00m doc \u001B[38;5;129;01min\u001B[39;00m it)\n",
      "File \u001B[0;32m~/Documents/dev/Anthology-Search-Engine/venv/Desktop/lib/python3.10/site-packages/pyterrier/index.py:844\u001B[0m, in \u001B[0;36m_BaseIterDictIndexer._validate_doc_dict\u001B[0;34m(self, obj)\u001B[0m\n\u001B[1;32m    842\u001B[0m \u001B[38;5;28;01mfor\u001B[39;00m k \u001B[38;5;129;01min\u001B[39;00m \u001B[38;5;28mself\u001B[39m\u001B[38;5;241m.\u001B[39mmeta:\n\u001B[1;32m    843\u001B[0m     \u001B[38;5;28;01mif\u001B[39;00m k \u001B[38;5;129;01mnot\u001B[39;00m \u001B[38;5;129;01min\u001B[39;00m obj:\n\u001B[0;32m--> 844\u001B[0m         \u001B[38;5;28;01mraise\u001B[39;00m \u001B[38;5;167;01mValueError\u001B[39;00m(\u001B[38;5;124mf\u001B[39m\u001B[38;5;124m\"\u001B[39m\u001B[38;5;124mIndexing meta key \u001B[39m\u001B[38;5;132;01m{\u001B[39;00mk\u001B[38;5;132;01m}\u001B[39;00m\u001B[38;5;124m not found in first document (keys \u001B[39m\u001B[38;5;132;01m{\u001B[39;00m\u001B[38;5;28mlist\u001B[39m(obj\u001B[38;5;241m.\u001B[39mkeys())\u001B[38;5;132;01m}\u001B[39;00m\u001B[38;5;124m)\u001B[39m\u001B[38;5;124m\"\u001B[39m)\n\u001B[1;32m    845\u001B[0m     \u001B[38;5;28;01mif\u001B[39;00m \u001B[38;5;28mlen\u001B[39m(obj) \u001B[38;5;241m>\u001B[39m \u001B[38;5;28mint\u001B[39m(\u001B[38;5;28mself\u001B[39m\u001B[38;5;241m.\u001B[39mmeta[k]):\n\u001B[1;32m    846\u001B[0m         msg \u001B[38;5;241m=\u001B[39m \u001B[38;5;124mf\u001B[39m\u001B[38;5;124m\"\u001B[39m\u001B[38;5;124mIndexing meta key \u001B[39m\u001B[38;5;132;01m{\u001B[39;00mk\u001B[38;5;132;01m}\u001B[39;00m\u001B[38;5;124m length requested \u001B[39m\u001B[38;5;132;01m{\u001B[39;00m\u001B[38;5;28mself\u001B[39m\u001B[38;5;241m.\u001B[39mmeta[k]\u001B[38;5;132;01m}\u001B[39;00m\u001B[38;5;124m but exceeded in first document (actual length \u001B[39m\u001B[38;5;132;01m{\u001B[39;00m\u001B[38;5;28mlen\u001B[39m(obj[k])\u001B[38;5;132;01m}\u001B[39;00m\u001B[38;5;124m). \u001B[39m\u001B[38;5;124m\"\u001B[39m \u001B[38;5;241m+\u001B[39m \\\n\u001B[1;32m    847\u001B[0m               \u001B[38;5;124mf\u001B[39m\u001B[38;5;124m\"\u001B[39m\u001B[38;5;124mIncrease the length in the meta dict for the indexer, e.g., pt.IterDictIndexer(..., meta=\u001B[39m\u001B[38;5;132;01m{\u001B[39;00m\u001B[38;5;250m \u001B[39m{k:\u001B[38;5;250m \u001B[39m\u001B[38;5;28mlen\u001B[39m(obj[k])}\u001B[38;5;250m \u001B[39m\u001B[38;5;132;01m}\u001B[39;00m\u001B[38;5;124m).\u001B[39m\u001B[38;5;124m\"\u001B[39m\n",
      "\u001B[0;31mValueError\u001B[0m: Indexing meta key docno not found in first document (keys ['year', 'booktitle', 'authors', 'id', 'abstract', 'title'])"
     ]
    }
   ],
   "source": [
    "print('Step 3: Create the Index.')\n",
    "\n",
    "!rm -Rf ./index\n",
    "iter_indexer = pt.IterDictIndexer(\"./index\", meta={'docno' : 100})\n",
    "index_ref = iter_indexer.index(tqdm(documents))"
   ]
  },
  {
   "cell_type": "markdown",
   "id": "806c4638-ccee-4470-a74c-2a85d9ee2cfc",
   "metadata": {},
   "source": [
    "### Step 4: Create Run"
   ]
  },
  {
   "cell_type": "code",
   "execution_count": null,
   "id": "a191f396-e896-4792-afaf-574e452640f5",
   "metadata": {},
   "outputs": [],
   "source": [
    "print('Step 4: Create Run.')\n",
    "run = pt.BatchRetrieve(index_ref, wmodel=\"BM25\", verbose=True)(queries)"
   ]
  },
  {
   "cell_type": "code",
   "execution_count": null,
   "id": "c0e07fca-de98-4de2-b6a7-abfd516c652c",
   "metadata": {},
   "outputs": [],
   "source": [
    "run"
   ]
  },
  {
   "cell_type": "markdown",
   "id": "28c40a2e-0f96-4ae8-aa5e-55a5e7ef9dee",
   "metadata": {},
   "source": [
    "### Step 5: Persist Run"
   ]
  },
  {
   "cell_type": "code",
   "execution_count": null,
   "id": "12e5bb42-ed1f-41ba-b7a5-cb43ebca96f6",
   "metadata": {},
   "outputs": [],
   "source": [
    "print('Step 5: Persist Run.')\n",
    "\n",
    "persist_and_normalize_run(run, output_file=output_directory, system_name='BM25', depth=1000)"
   ]
  }
 ],
 "metadata": {
  "kernelspec": {
   "display_name": "Python 3 (ipykernel)",
   "language": "python",
   "name": "python3"
  },
  "language_info": {
   "codemirror_mode": {
    "name": "ipython",
    "version": 3
   },
   "file_extension": ".py",
   "mimetype": "text/x-python",
   "name": "python",
   "nbconvert_exporter": "python",
   "pygments_lexer": "ipython3",
   "version": "3.10.6"
  }
 },
 "nbformat": 4,
 "nbformat_minor": 5
}
