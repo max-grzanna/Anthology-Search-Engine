{
 "cells": [
  {
   "cell_type": "markdown",
   "id": "8c3da078-f7fc-4d37-904c-532bb26d4321",
   "metadata": {},
   "source": [
    "# Anthology Pipeline"
   ]
  },
  {
   "cell_type": "markdown",
   "id": "66fd2911-c97a-4f91-af28-8c7e381573b6",
   "metadata": {},
   "source": [
    "### Step 1: Import everything and load variables"
   ]
  },
  {
   "cell_type": "code",
   "execution_count": 25,
   "id": "7ae3c54f-aba1-45bf-b074-e78a99f6405f",
   "metadata": {
    "ExecuteTime": {
     "end_time": "2023-05-08T15:27:48.830293Z",
     "start_time": "2023-05-08T15:27:48.789722Z"
    }
   },
   "outputs": [
    {
     "name": "stdout",
     "output_type": "stream",
     "text": [
      "I will use a small hardcoded example located in iranthology-dataset-tira/.\n",
      "The output directory is /tmp/\n"
     ]
    }
   ],
   "source": [
    "import pyterrier as pt\n",
    "import pandas as pd\n",
    "from tira.third_party_integrations import ensure_pyterrier_is_loaded, get_input_directory_and_output_directory, persist_and_normalize_run\n",
    "import json\n",
    "from tqdm import tqdm\n",
    "import os\n",
    "if (pt.started()==False):\n",
    "    pt.init()\n",
    "\n",
    "os.environ[\"PYTERRIER_VERSION\"] = str(pt.__version__)\n",
    "os.environ[\"PYTERRIER_HELPER_VERSION\"] = str(pt.__version__)\n",
    "\n",
    "ensure_pyterrier_is_loaded()\n",
    "input_directory, output_directory = get_input_directory_and_output_directory('iranthology-dataset-tira/')"
   ]
  },
  {
   "cell_type": "markdown",
   "id": "8c563b0e-97ac-44a2-ba2f-18858f1506bb",
   "metadata": {},
   "source": [
    "### Step 2: Load the Data"
   ]
  },
  {
   "cell_type": "code",
   "execution_count": 26,
   "id": "e35230af-66ec-4607-a97b-127bd890fa59",
   "metadata": {
    "ExecuteTime": {
     "end_time": "2023-05-08T15:27:48.831223Z",
     "start_time": "2023-05-08T15:27:48.798272Z"
    }
   },
   "outputs": [
    {
     "name": "stdout",
     "output_type": "stream",
     "text": [
      "Step 2: Load the data.\n"
     ]
    }
   ],
   "source": [
    "print('Step 2: Load the data.')\n",
    "\n",
    "queries = pt.io.read_topics(input_directory + 'queries.xml', format='trecxml')\n",
    "\n",
    "documents = (json.loads(i) for i in open(input_directory + 'documents.jsonl', 'r'))\n"
   ]
  },
  {
   "cell_type": "markdown",
   "id": "72655916-07fe-4c58-82c1-2f9f93381e7f",
   "metadata": {},
   "source": [
    "### Step 3: Create the Index"
   ]
  },
  {
   "cell_type": "code",
   "execution_count": 27,
   "id": "05ce062d-25e4-4c61-b6ce-9431b9f2bbd4",
   "metadata": {
    "ExecuteTime": {
     "end_time": "2023-05-08T15:27:49.021094Z",
     "start_time": "2023-05-08T15:27:48.814452Z"
    }
   },
   "outputs": [
    {
     "name": "stdout",
     "output_type": "stream",
     "text": [
      "Step 3: Create the Index.\n"
     ]
    },
    {
     "name": "stderr",
     "output_type": "stream",
     "text": [
      "\n",
      "\n",
      "0it [00:00, ?it/s]\u001B[A\u001B[A\n",
      "\n",
      "1it [00:00,  3.22it/s]\u001B[A\u001B[A\n",
      "\n",
      "38it [00:00, 118.70it/s]\u001B[A\u001B[A\n",
      "\n",
      "310it [00:00, 925.54it/s]\u001B[A\u001B[A\n",
      "\n",
      "667it [00:00, 1645.35it/s]\u001B[A\u001B[A\n",
      "\n",
      "932it [00:00, 1673.22it/s]\u001B[A\u001B[A\n",
      "\n",
      "1217it [00:00, 1918.26it/s]\u001B[A\u001B[A\n",
      "\n",
      "1741it [00:01, 2732.40it/s]\u001B[A\u001B[A\n",
      "\n",
      "2368it [00:01, 3651.00it/s]\u001B[A\u001B[A\n",
      "\n",
      "2939it [00:01, 4220.56it/s]\u001B[A\u001B[A\n",
      "\n",
      "3400it [00:01, 4311.04it/s]\u001B[A\u001B[A\n",
      "\n",
      "4073it [00:01, 4876.06it/s]\u001B[A\u001B[A\n",
      "\n",
      "4678it [00:01, 5154.68it/s]\u001B[A\u001B[A\n",
      "\n",
      "5431it [00:01, 5699.22it/s]\u001B[A\u001B[A\n",
      "\n",
      "6008it [00:01, 5640.58it/s]\u001B[A\u001B[A\n",
      "\n",
      "6837it [00:01, 6311.75it/s]\u001B[A\u001B[A\n",
      "\n",
      "7473it [00:01, 5947.84it/s]\u001B[A\u001B[A\n",
      "\n",
      "8131it [00:02, 6089.29it/s]\u001B[A\u001B[A\n",
      "\n",
      "8746it [00:02, 5028.97it/s]\u001B[A\u001B[A\n",
      "\n",
      "9281it [00:02, 5007.85it/s]\u001B[A\u001B[A\n",
      "\n",
      "9804it [00:02, 4694.12it/s]\u001B[A\u001B[A\n",
      "\n",
      "10291it [00:02, 4481.41it/s]\u001B[A\u001B[A\n",
      "\n",
      "10840it [00:02, 4686.29it/s]\u001B[A\u001B[A\n",
      "\n",
      "11334it [00:02, 4702.77it/s]\u001B[A\u001B[A\n",
      "\n",
      "12352it [00:02, 5803.11it/s]\u001B[A\u001B[A\n",
      "\n",
      "12931it [00:03, 5616.07it/s]\u001B[A\u001B[A\n",
      "\n",
      "13492it [00:03, 5406.75it/s]\u001B[A\u001B[A\n",
      "\n",
      "14054it [00:03, 5438.23it/s]\u001B[A\u001B[A\n",
      "\n",
      "14598it [00:03, 5414.78it/s]\u001B[A\u001B[A\n",
      "\n",
      "15139it [00:03, 5393.75it/s]\u001B[A\u001B[A\n",
      "\n",
      "15678it [00:03, 4755.81it/s]\u001B[A\u001B[A\n",
      "\n",
      "16647it [00:03, 6003.70it/s]\u001B[A\u001B[A"
     ]
    },
    {
     "name": "stdout",
     "output_type": "stream",
     "text": [
      "18:16:27.666 [ForkJoinPool-2-worker-3] WARN org.terrier.structures.indexing.Indexer - Adding an empty document to the index (2020.mir_conference-2020.1) - further warnings are suppressed\n"
     ]
    },
    {
     "name": "stderr",
     "output_type": "stream",
     "text": [
      "\n",
      "\n",
      "17320it [00:03, 5582.15it/s]\u001B[A\u001B[A\n",
      "\n",
      "17899it [00:03, 5463.78it/s]\u001B[A\u001B[A\n",
      "\n",
      "18530it [00:04, 5552.22it/s]\u001B[A\u001B[A\n",
      "\n",
      "19214it [00:04, 5829.71it/s]\u001B[A\u001B[A\n",
      "\n",
      "20149it [00:04, 6156.42it/s]\u001B[A\u001B[A\n",
      "\n",
      "20767it [00:04, 5622.03it/s]\u001B[A\u001B[A\n",
      "\n",
      "21336it [00:04, 5273.78it/s]\u001B[A\u001B[A\n",
      "\n",
      "21868it [00:04, 5184.25it/s]\u001B[A\u001B[A\n",
      "\n",
      "22389it [00:04, 4196.26it/s]\u001B[A\u001B[A\n",
      "\n",
      "22836it [00:05, 3547.43it/s]\u001B[A\u001B[A\n",
      "\n",
      "23246it [00:05, 3614.02it/s]\u001B[A\u001B[A\n",
      "\n",
      "23690it [00:05, 3749.78it/s]\u001B[A\u001B[A\n",
      "\n",
      "24252it [00:05, 4095.11it/s]\u001B[A\u001B[A\n",
      "\n",
      "24715it [00:05, 4086.34it/s]\u001B[A\u001B[A\n",
      "\n",
      "0it [30:23, ?it/s]60.02it/s]\u001B[A\u001B[A\n",
      "0it [00:57, ?it/s]\n",
      "\n",
      "\n",
      "26102it [00:05, 3275.65it/s]\u001B[A\u001B[A\n",
      "\n",
      "27092it [00:06, 4563.63it/s]\u001B[A\u001B[A\n",
      "\n",
      "27656it [00:06, 4652.26it/s]\u001B[A\u001B[A\n",
      "\n",
      "28301it [00:06, 4367.34it/s]\u001B[A\u001B[A\n",
      "\n",
      "28796it [00:06, 4078.73it/s]\u001B[A\u001B[A\n",
      "\n",
      "29244it [00:06, 3914.83it/s]\u001B[A\u001B[A\n",
      "\n",
      "30076it [00:06, 4627.04it/s]\u001B[A\u001B[A\n",
      "\n",
      "30563it [00:06, 4588.18it/s]\u001B[A\u001B[A\n",
      "\n",
      "31282it [00:06, 5166.70it/s]\u001B[A\u001B[A\n",
      "\n",
      "31820it [00:07, 5071.95it/s]\u001B[A\u001B[A\n",
      "\n",
      "32468it [00:07, 5444.20it/s]\u001B[A\u001B[A\n",
      "\n",
      "33028it [00:07, 5302.23it/s]\u001B[A\u001B[A\n",
      "\n",
      "33569it [00:07, 4977.44it/s]\u001B[A\u001B[A\n",
      "\n",
      "34107it [00:07, 5057.50it/s]\u001B[A\u001B[A\n",
      "\n",
      "34710it [00:07, 5198.09it/s]\u001B[A\u001B[A\n",
      "\n",
      "35483it [00:07, 5818.34it/s]\u001B[A\u001B[A\n",
      "\n",
      "36536it [00:07, 6817.44it/s]\u001B[A\u001B[A\n",
      "\n",
      "37402it [00:07, 7225.94it/s]\u001B[A\u001B[A\n",
      "\n",
      "38430it [00:08, 8011.60it/s]\u001B[A\u001B[A\n",
      "\n",
      "39236it [00:08, 7719.92it/s]\u001B[A\u001B[A\n",
      "\n",
      "40181it [00:08, 8149.26it/s]\u001B[A\u001B[A\n",
      "\n",
      "41002it [00:08, 7440.84it/s]\u001B[A\u001B[A\n",
      "\n",
      "42187it [00:08, 8567.77it/s]\u001B[A\u001B[A\n",
      "\n",
      "43960it [00:08, 10596.52it/s]\u001B[A\u001B[A\n",
      "\n",
      "46012it [00:08, 13317.72it/s]\u001B[A\u001B[A\n",
      "\n",
      "47470it [00:08, 13672.77it/s]\u001B[A\u001B[A\n",
      "\n",
      "48861it [00:08, 12741.06it/s]\u001B[A\u001B[A\n",
      "\n",
      "50163it [00:09, 11305.49it/s]\u001B[A\u001B[A\n",
      "\n",
      "51337it [00:09, 9188.77it/s] \u001B[A\u001B[A\n",
      "\n",
      "52340it [00:09, 9227.23it/s]\u001B[A\u001B[A\n",
      "\n",
      "53673it [00:09, 5580.79it/s]\u001B[A\u001B[A\n"
     ]
    },
    {
     "name": "stdout",
     "output_type": "stream",
     "text": [
      "18:16:34.695 [ForkJoinPool-2-worker-3] WARN org.terrier.structures.indexing.Indexer - Indexed 3 empty documents\n"
     ]
    }
   ],
   "source": [
    "print('Step 3: Create the Index.')\n",
    "\n",
    "!rm -Rf ./index\n",
    "iter_indexer = pt.IterDictIndexer(\"./index\", meta={'docno' : 100})\n",
    "index_ref = iter_indexer.index(tqdm(documents))"
   ]
  },
  {
   "cell_type": "markdown",
   "id": "806c4638-ccee-4470-a74c-2a85d9ee2cfc",
   "metadata": {},
   "source": [
    "### Step 4: Create Run"
   ]
  },
  {
   "cell_type": "code",
   "execution_count": 33,
   "id": "a191f396-e896-4792-afaf-574e452640f5",
   "metadata": {},
   "outputs": [
    {
     "name": "stdout",
     "output_type": "stream",
     "text": [
      "Step 4: Create Run.\n"
     ]
    },
    {
     "name": "stderr",
     "output_type": "stream",
     "text": [
      "BR(BM25): 100%|██████████| 6/6 [00:00<00:00, 66.44q/s]\n"
     ]
    }
   ],
   "source": [
    "print('Step 4: Create Run.')\n",
    "run = pt.BatchRetrieve(index_ref, wmodel=\"BM25\", verbose=True, num_results=5)(queries)"
   ]
  },
  {
   "cell_type": "code",
   "execution_count": 34,
   "id": "c0e07fca-de98-4de2-b6a7-abfd516c652c",
   "metadata": {},
   "outputs": [
    {
     "data": {
      "text/plain": "   qid  docid                                              docno  rank   \n0    1  24609                      2017.cikm_conference-2017.312     0  \\\n1    1  15569                        2020.wsdm_conference-2020.4     1   \n2    1  15691                      2020.wsdm_conference-2020.126     2   \n3    1  15884                        2015.mir_conference-2015.49     3   \n4    1  16582                        2017.mir_conference-2017.38     4   \n5    2  10846                  2003.sigirconf_conference-2003.73     0   \n6    2  28283                       2015.ictir_conference-2015.2     1   \n7    2  53311       2011.tois_journal-ir0anthology0volumeA29A2.0     2   \n8    2  51553        2006.ipm_journal-ir0anthology0volumeA42A1.2     3   \n9    2  48845  2012.sigirjournals_journal-ir0anthology0volume...     4   \n10   3  41053       2020.tweb_journal-ir0anthology0volumeA14A3.4     0   \n11   3  34250                    2017.wwwconf_conference-2017.20     1   \n12   3  32294                   2020.wwwconf_conference-2020.154     2   \n13   3  33303                   2018.wwwconf_conference-2018.144     3   \n14   3  29627                   2019.wwwconf_conference-2019.152     4   \n15   4  36581                      2011.trec_conference-2011.102     0   \n16   4  36837                       2012.trec_conference-2012.73     1   \n17   4   1827                        2005.clef_workshop-2005w.97     2   \n18   4   2885                       2006.clef_workshop-2006w.110     3   \n19   4   2081                        2009.clef_workshop-20092.32     4   \n20   5    150                2018.sigirconf_workshop-2018ecom.14     0   \n21   5   6227                  2011.sigirconf_conference-2011.10     1   \n22   5  29692                   2019.wwwconf_conference-2019.217     2   \n23   5     47                2019.sigirconf_workshop-2019ecom.19     3   \n24   5  10426                 2017.sigirconf_conference-2017.251     4   \n25   6   6001                2005.wwwconf_workshop-2004webdyn.11     0   \n26   6  31689                   2008.wwwconf_conference-2008.169     1   \n27   6  15221                       2016.wsdm_conference-2016.14     2   \n28   6  32845                  2013.wwwconf_conference-2013c.138     3   \n29   6  23944                      2005.cikm_conference-2005.139     4   \n\n        score                                         query  \n0   23.099142                          deep neural networks  \n1   22.204831                          deep neural networks  \n2   21.784120                          deep neural networks  \n3   21.565786                          deep neural networks  \n4   21.565786                          deep neural networks  \n5    3.794062                         information retrieval  \n6    3.699611                         information retrieval  \n7    3.667209                         information retrieval  \n8    3.619692                         information retrieval  \n9    3.618535                         information retrieval  \n10  34.607574                     analysis for android apps  \n11  28.519158                     analysis for android apps  \n12  28.258807                     analysis for android apps  \n13  28.251420                     analysis for android apps  \n14  27.913462                     analysis for android apps  \n15  25.201566                   the university of amsterdam  \n16  25.027581                   the university of amsterdam  \n17  24.686720                   the university of amsterdam  \n18  23.290037                   the university of amsterdam  \n19  22.706530                   the university of amsterdam  \n20  39.549210   neural ranking for ecommerce product search  \n21  26.027833   neural ranking for ecommerce product search  \n22  24.063395   neural ranking for ecommerce product search  \n23  23.366938   neural ranking for ecommerce product search  \n24  22.771918   neural ranking for ecommerce product search  \n25  22.105857                           web pages evolution  \n26  19.985960                           web pages evolution  \n27  19.534565                           web pages evolution  \n28  19.524667                           web pages evolution  \n29  18.961532                           web pages evolution  ",
      "text/html": "<div>\n<style scoped>\n    .dataframe tbody tr th:only-of-type {\n        vertical-align: middle;\n    }\n\n    .dataframe tbody tr th {\n        vertical-align: top;\n    }\n\n    .dataframe thead th {\n        text-align: right;\n    }\n</style>\n<table border=\"1\" class=\"dataframe\">\n  <thead>\n    <tr style=\"text-align: right;\">\n      <th></th>\n      <th>qid</th>\n      <th>docid</th>\n      <th>docno</th>\n      <th>rank</th>\n      <th>score</th>\n      <th>query</th>\n    </tr>\n  </thead>\n  <tbody>\n    <tr>\n      <th>0</th>\n      <td>1</td>\n      <td>24609</td>\n      <td>2017.cikm_conference-2017.312</td>\n      <td>0</td>\n      <td>23.099142</td>\n      <td>deep neural networks</td>\n    </tr>\n    <tr>\n      <th>1</th>\n      <td>1</td>\n      <td>15569</td>\n      <td>2020.wsdm_conference-2020.4</td>\n      <td>1</td>\n      <td>22.204831</td>\n      <td>deep neural networks</td>\n    </tr>\n    <tr>\n      <th>2</th>\n      <td>1</td>\n      <td>15691</td>\n      <td>2020.wsdm_conference-2020.126</td>\n      <td>2</td>\n      <td>21.784120</td>\n      <td>deep neural networks</td>\n    </tr>\n    <tr>\n      <th>3</th>\n      <td>1</td>\n      <td>15884</td>\n      <td>2015.mir_conference-2015.49</td>\n      <td>3</td>\n      <td>21.565786</td>\n      <td>deep neural networks</td>\n    </tr>\n    <tr>\n      <th>4</th>\n      <td>1</td>\n      <td>16582</td>\n      <td>2017.mir_conference-2017.38</td>\n      <td>4</td>\n      <td>21.565786</td>\n      <td>deep neural networks</td>\n    </tr>\n    <tr>\n      <th>5</th>\n      <td>2</td>\n      <td>10846</td>\n      <td>2003.sigirconf_conference-2003.73</td>\n      <td>0</td>\n      <td>3.794062</td>\n      <td>information retrieval</td>\n    </tr>\n    <tr>\n      <th>6</th>\n      <td>2</td>\n      <td>28283</td>\n      <td>2015.ictir_conference-2015.2</td>\n      <td>1</td>\n      <td>3.699611</td>\n      <td>information retrieval</td>\n    </tr>\n    <tr>\n      <th>7</th>\n      <td>2</td>\n      <td>53311</td>\n      <td>2011.tois_journal-ir0anthology0volumeA29A2.0</td>\n      <td>2</td>\n      <td>3.667209</td>\n      <td>information retrieval</td>\n    </tr>\n    <tr>\n      <th>8</th>\n      <td>2</td>\n      <td>51553</td>\n      <td>2006.ipm_journal-ir0anthology0volumeA42A1.2</td>\n      <td>3</td>\n      <td>3.619692</td>\n      <td>information retrieval</td>\n    </tr>\n    <tr>\n      <th>9</th>\n      <td>2</td>\n      <td>48845</td>\n      <td>2012.sigirjournals_journal-ir0anthology0volume...</td>\n      <td>4</td>\n      <td>3.618535</td>\n      <td>information retrieval</td>\n    </tr>\n    <tr>\n      <th>10</th>\n      <td>3</td>\n      <td>41053</td>\n      <td>2020.tweb_journal-ir0anthology0volumeA14A3.4</td>\n      <td>0</td>\n      <td>34.607574</td>\n      <td>analysis for android apps</td>\n    </tr>\n    <tr>\n      <th>11</th>\n      <td>3</td>\n      <td>34250</td>\n      <td>2017.wwwconf_conference-2017.20</td>\n      <td>1</td>\n      <td>28.519158</td>\n      <td>analysis for android apps</td>\n    </tr>\n    <tr>\n      <th>12</th>\n      <td>3</td>\n      <td>32294</td>\n      <td>2020.wwwconf_conference-2020.154</td>\n      <td>2</td>\n      <td>28.258807</td>\n      <td>analysis for android apps</td>\n    </tr>\n    <tr>\n      <th>13</th>\n      <td>3</td>\n      <td>33303</td>\n      <td>2018.wwwconf_conference-2018.144</td>\n      <td>3</td>\n      <td>28.251420</td>\n      <td>analysis for android apps</td>\n    </tr>\n    <tr>\n      <th>14</th>\n      <td>3</td>\n      <td>29627</td>\n      <td>2019.wwwconf_conference-2019.152</td>\n      <td>4</td>\n      <td>27.913462</td>\n      <td>analysis for android apps</td>\n    </tr>\n    <tr>\n      <th>15</th>\n      <td>4</td>\n      <td>36581</td>\n      <td>2011.trec_conference-2011.102</td>\n      <td>0</td>\n      <td>25.201566</td>\n      <td>the university of amsterdam</td>\n    </tr>\n    <tr>\n      <th>16</th>\n      <td>4</td>\n      <td>36837</td>\n      <td>2012.trec_conference-2012.73</td>\n      <td>1</td>\n      <td>25.027581</td>\n      <td>the university of amsterdam</td>\n    </tr>\n    <tr>\n      <th>17</th>\n      <td>4</td>\n      <td>1827</td>\n      <td>2005.clef_workshop-2005w.97</td>\n      <td>2</td>\n      <td>24.686720</td>\n      <td>the university of amsterdam</td>\n    </tr>\n    <tr>\n      <th>18</th>\n      <td>4</td>\n      <td>2885</td>\n      <td>2006.clef_workshop-2006w.110</td>\n      <td>3</td>\n      <td>23.290037</td>\n      <td>the university of amsterdam</td>\n    </tr>\n    <tr>\n      <th>19</th>\n      <td>4</td>\n      <td>2081</td>\n      <td>2009.clef_workshop-20092.32</td>\n      <td>4</td>\n      <td>22.706530</td>\n      <td>the university of amsterdam</td>\n    </tr>\n    <tr>\n      <th>20</th>\n      <td>5</td>\n      <td>150</td>\n      <td>2018.sigirconf_workshop-2018ecom.14</td>\n      <td>0</td>\n      <td>39.549210</td>\n      <td>neural ranking for ecommerce product search</td>\n    </tr>\n    <tr>\n      <th>21</th>\n      <td>5</td>\n      <td>6227</td>\n      <td>2011.sigirconf_conference-2011.10</td>\n      <td>1</td>\n      <td>26.027833</td>\n      <td>neural ranking for ecommerce product search</td>\n    </tr>\n    <tr>\n      <th>22</th>\n      <td>5</td>\n      <td>29692</td>\n      <td>2019.wwwconf_conference-2019.217</td>\n      <td>2</td>\n      <td>24.063395</td>\n      <td>neural ranking for ecommerce product search</td>\n    </tr>\n    <tr>\n      <th>23</th>\n      <td>5</td>\n      <td>47</td>\n      <td>2019.sigirconf_workshop-2019ecom.19</td>\n      <td>3</td>\n      <td>23.366938</td>\n      <td>neural ranking for ecommerce product search</td>\n    </tr>\n    <tr>\n      <th>24</th>\n      <td>5</td>\n      <td>10426</td>\n      <td>2017.sigirconf_conference-2017.251</td>\n      <td>4</td>\n      <td>22.771918</td>\n      <td>neural ranking for ecommerce product search</td>\n    </tr>\n    <tr>\n      <th>25</th>\n      <td>6</td>\n      <td>6001</td>\n      <td>2005.wwwconf_workshop-2004webdyn.11</td>\n      <td>0</td>\n      <td>22.105857</td>\n      <td>web pages evolution</td>\n    </tr>\n    <tr>\n      <th>26</th>\n      <td>6</td>\n      <td>31689</td>\n      <td>2008.wwwconf_conference-2008.169</td>\n      <td>1</td>\n      <td>19.985960</td>\n      <td>web pages evolution</td>\n    </tr>\n    <tr>\n      <th>27</th>\n      <td>6</td>\n      <td>15221</td>\n      <td>2016.wsdm_conference-2016.14</td>\n      <td>2</td>\n      <td>19.534565</td>\n      <td>web pages evolution</td>\n    </tr>\n    <tr>\n      <th>28</th>\n      <td>6</td>\n      <td>32845</td>\n      <td>2013.wwwconf_conference-2013c.138</td>\n      <td>3</td>\n      <td>19.524667</td>\n      <td>web pages evolution</td>\n    </tr>\n    <tr>\n      <th>29</th>\n      <td>6</td>\n      <td>23944</td>\n      <td>2005.cikm_conference-2005.139</td>\n      <td>4</td>\n      <td>18.961532</td>\n      <td>web pages evolution</td>\n    </tr>\n  </tbody>\n</table>\n</div>"
     },
     "execution_count": 34,
     "metadata": {},
     "output_type": "execute_result"
    }
   ],
   "source": [
    "run"
   ]
  },
  {
   "cell_type": "markdown",
   "id": "28c40a2e-0f96-4ae8-aa5e-55a5e7ef9dee",
   "metadata": {},
   "source": [
    "### Step 5: Persist Run"
   ]
  },
  {
   "cell_type": "code",
   "execution_count": 30,
   "id": "12e5bb42-ed1f-41ba-b7a5-cb43ebca96f6",
   "metadata": {},
   "outputs": [
    {
     "name": "stdout",
     "output_type": "stream",
     "text": [
      "Step 5: Persist Run.\n"
     ]
    }
   ],
   "source": [
    "print('Step 5: Persist Run.')\n",
    "\n",
    "persist_and_normalize_run(run, output_file=output_directory, system_name='BM25', depth=1000)"
   ]
  }
 ],
 "metadata": {
  "kernelspec": {
   "display_name": "Python 3 (ipykernel)",
   "language": "python",
   "name": "python3"
  },
  "language_info": {
   "codemirror_mode": {
    "name": "ipython",
    "version": 3
   },
   "file_extension": ".py",
   "mimetype": "text/x-python",
   "name": "python",
   "nbconvert_exporter": "python",
   "pygments_lexer": "ipython3",
   "version": "3.9.7"
  }
 },
 "nbformat": 4,
 "nbformat_minor": 5
}
