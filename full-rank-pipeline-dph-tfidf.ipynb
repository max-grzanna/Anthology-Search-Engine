{
 "cells": [
  {
   "attachments": {},
   "cell_type": "markdown",
   "id": "8c3da078-f7fc-4d37-904c-532bb26d4321",
   "metadata": {},
   "source": [
    "# Anthology Pipeline"
   ]
  },
  {
   "attachments": {},
   "cell_type": "markdown",
   "id": "66fd2911-c97a-4f91-af28-8c7e381573b6",
   "metadata": {},
   "source": [
    "### Step 1: Import everything and load variables"
   ]
  },
  {
   "cell_type": "code",
   "execution_count": null,
   "id": "7ae3c54f-aba1-45bf-b074-e78a99f6405f",
   "metadata": {
    "ExecuteTime": {
     "end_time": "2023-05-08T15:27:48.830293Z",
     "start_time": "2023-05-08T15:27:48.789722Z"
    }
   },
   "outputs": [],
   "source": [
    "import pyterrier as pt\n",
    "import pandas as pd\n",
    "from tira.third_party_integrations import ensure_pyterrier_is_loaded, get_input_directory_and_output_directory, persist_and_normalize_run\n",
    "import json\n",
    "from tqdm import tqdm\n",
    "\n",
    "ensure_pyterrier_is_loaded()\n",
    "input_directory, output_directory = get_input_directory_and_output_directory('iranthology-dataset-tira/')"
   ]
  },
  {
   "attachments": {},
   "cell_type": "markdown",
   "id": "8c563b0e-97ac-44a2-ba2f-18858f1506bb",
   "metadata": {},
   "source": [
    "### Step 2: Load the Data"
   ]
  },
  {
   "cell_type": "code",
   "execution_count": null,
   "id": "e35230af-66ec-4607-a97b-127bd890fa59",
   "metadata": {
    "ExecuteTime": {
     "end_time": "2023-05-08T15:27:48.831223Z",
     "start_time": "2023-05-08T15:27:48.798272Z"
    }
   },
   "outputs": [],
   "source": [
    "print('Step 2: Load the data.')\n",
    "\n",
    "queries = pt.io.read_topics(input_directory + '/queries.xml', format='trecxml')\n",
    "\n",
    "documents = (json.loads(i) for i in open(input_directory + '/documents.jsonl', 'r'))\n",
    "documents = [{'docno': i['docno'], 'text': i['text'], 'title': i['original_document']['title'], 'abstract': i['original_document']['abstract']} for i in documents]\n"
   ]
  },
  {
   "attachments": {},
   "cell_type": "markdown",
   "id": "72655916-07fe-4c58-82c1-2f9f93381e7f",
   "metadata": {},
   "source": [
    "### Step 3: Create the Index"
   ]
  },
  {
   "cell_type": "code",
   "execution_count": null,
   "id": "05ce062d-25e4-4c61-b6ce-9431b9f2bbd4",
   "metadata": {
    "ExecuteTime": {
     "end_time": "2023-05-08T15:27:49.021094Z",
     "start_time": "2023-05-08T15:27:48.814452Z"
    }
   },
   "outputs": [],
   "source": [
    "print('Step 3: Create the Index.')\n",
    "\n",
    "!rm -Rf ./index\n",
    "iter_indexer = pt.IterDictIndexer(\"./index\", meta={'docno' : 100, 'title': 10240, 'abstract': 10240, 'text': 10240})\n",
    "index_ref = iter_indexer.index(tqdm(documents))"
   ]
  },
  {
   "attachments": {},
   "cell_type": "markdown",
   "id": "806c4638-ccee-4470-a74c-2a85d9ee2cfc",
   "metadata": {},
   "source": [
    "### Step 4: Create Run"
   ]
  },
  {
   "cell_type": "code",
   "execution_count": null,
   "id": "a191f396-e896-4792-afaf-574e452640f5",
   "metadata": {},
   "outputs": [
    {
     "name": "stdout",
     "output_type": "stream",
     "text": [
      "Step 4: Create Run.\n"
     ]
    },
    {
     "ename": "NameError",
     "evalue": "name 'pt' is not defined",
     "output_type": "error",
     "traceback": [
      "\u001B[0;31m---------------------------------------------------------------------------\u001B[0m",
      "\u001B[0;31mNameError\u001B[0m                                 Traceback (most recent call last)",
      "Cell \u001B[0;32mIn[1], line 2\u001B[0m\n\u001B[1;32m      1\u001B[0m \u001B[38;5;28mprint\u001B[39m(\u001B[38;5;124m'\u001B[39m\u001B[38;5;124mStep 4: Create Run.\u001B[39m\u001B[38;5;124m'\u001B[39m)\n\u001B[0;32m----> 2\u001B[0m bm25 \u001B[38;5;241m=\u001B[39m \u001B[43mpt\u001B[49m\u001B[38;5;241m.\u001B[39mBatchRetrieve(index_ref, wmodel\u001B[38;5;241m=\u001B[39m\u001B[38;5;124m\"\u001B[39m\u001B[38;5;124mTF_IDF\u001B[39m\u001B[38;5;124m\"\u001B[39m, verbose\u001B[38;5;241m=\u001B[39m\u001B[38;5;28;01mTrue\u001B[39;00m, metadata\u001B[38;5;241m=\u001B[39m[\u001B[38;5;124m'\u001B[39m\u001B[38;5;124mdocno\u001B[39m\u001B[38;5;124m'\u001B[39m, \u001B[38;5;124m'\u001B[39m\u001B[38;5;124mtext\u001B[39m\u001B[38;5;124m'\u001B[39m, \u001B[38;5;124m'\u001B[39m\u001B[38;5;124mtitle\u001B[39m\u001B[38;5;124m'\u001B[39m, \u001B[38;5;124m'\u001B[39m\u001B[38;5;124mabstract\u001B[39m\u001B[38;5;124m'\u001B[39m])\n\u001B[1;32m      3\u001B[0m bm25_title \u001B[38;5;241m=\u001B[39m pt\u001B[38;5;241m.\u001B[39mtext\u001B[38;5;241m.\u001B[39mscorer(body_attr\u001B[38;5;241m=\u001B[39m\u001B[38;5;124m\"\u001B[39m\u001B[38;5;124mtitle\u001B[39m\u001B[38;5;124m\"\u001B[39m, wmodel\u001B[38;5;241m=\u001B[39m\u001B[38;5;124m\"\u001B[39m\u001B[38;5;124mBM25\u001B[39m\u001B[38;5;124m\"\u001B[39m)\n\u001B[1;32m      4\u001B[0m bm25_abstract \u001B[38;5;241m=\u001B[39m pt\u001B[38;5;241m.\u001B[39mtext\u001B[38;5;241m.\u001B[39mscorer(body_attr\u001B[38;5;241m=\u001B[39m\u001B[38;5;124m\"\u001B[39m\u001B[38;5;124mabstract\u001B[39m\u001B[38;5;124m\"\u001B[39m, wmodel\u001B[38;5;241m=\u001B[39m\u001B[38;5;124m\"\u001B[39m\u001B[38;5;124mBM25\u001B[39m\u001B[38;5;124m\"\u001B[39m)\n",
      "\u001B[0;31mNameError\u001B[0m: name 'pt' is not defined"
     ]
    }
   ],
   "source": [
    "print('Step 4: Create Run.')\n",
    "bm25 = pt.BatchRetrieve(index_ref, wmodel=\"TF_IDF\", verbose=True, metadata=['docno', 'text', 'title', 'abstract'])\n",
    "bm25_title = pt.text.scorer(body_attr=\"title\", wmodel=\"BM25\")\n",
    "bm25_abstract = pt.text.scorer(body_attr=\"abstract\", wmodel=\"BM25\")\n",
    "bm25_text = pt.text.scorer(body_attr=\"text\", wmodel=\"BM25\")\n",
    "\n",
    "\n",
    "# Here some \"random\" ranking formula that puts the highest weight on the title and\n",
    "# reduces the weight of matches on the text field\n",
    "# Here is big potential for improvements :)\n",
    "combined_bm25_score = ((4*bm25_title) + (1*bm25_abstract) + (0.5*bm25_text))\n",
    "\n",
    "\n",
    "dph_title = pt.text.scorer(body_attr=\"title\", wmodel=\"DPH\")\n",
    "dph_abstract = pt.text.scorer(body_attr=\"abstract\", wmodel=\"DPH\")\n",
    "dph_text = pt.text.scorer(body_attr=\"text\", wmodel=\"DPH\")\n",
    "\n",
    "# Here some \"random\" ranking formula that puts the highest weight on the title and\n",
    "# reduces the weight of matches on the text field\n",
    "# Here is big potential for improvements :)\n",
    "combined_dph_score = ((2*dph_title) + (1*dph_abstract) + (1*dph_text))\n",
    "\n",
    "# The overall Pipeline: We retrieve the top-1000 results from BM25 that we re-rank using the combined BM25 and DPH scores.\n",
    "# We just add the scores of BM25 and DPH\n",
    "# Here is big potential for improvements :)\n",
    "retrieval_pipeline = bm25 %1000 >> combined_bm25_score + combined_dph_score\n",
    "run = retrieval_pipeline(queries)"
   ]
  },
  {
   "cell_type": "code",
   "execution_count": null,
   "id": "c0e07fca-de98-4de2-b6a7-abfd516c652c",
   "metadata": {},
   "outputs": [],
   "source": [
    "run"
   ]
  },
  {
   "attachments": {},
   "cell_type": "markdown",
   "id": "28c40a2e-0f96-4ae8-aa5e-55a5e7ef9dee",
   "metadata": {},
   "source": [
    "### Step 5: Persist Run"
   ]
  },
  {
   "cell_type": "code",
   "execution_count": null,
   "id": "12e5bb42-ed1f-41ba-b7a5-cb43ebca96f6",
   "metadata": {},
   "outputs": [],
   "source": [
    "print('Step 5: Persist Run.')\n",
    "\n",
    "persist_and_normalize_run(run, output_file=output_directory, system_name='BM25', depth=1000)"
   ]
  }
 ],
 "metadata": {
  "kernelspec": {
   "display_name": "Python 3 (ipykernel)",
   "language": "python",
   "name": "python3"
  },
  "language_info": {
   "codemirror_mode": {
    "name": "ipython",
    "version": 3
   },
   "file_extension": ".py",
   "mimetype": "text/x-python",
   "name": "python",
   "nbconvert_exporter": "python",
   "pygments_lexer": "ipython3",
   "version": "3.8.1"
  }
 },
 "nbformat": 4,
 "nbformat_minor": 5
}
